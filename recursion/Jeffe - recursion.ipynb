{
 "cells": [
  {
   "cell_type": "markdown",
   "metadata": {},
   "source": [
    "# 1. Recursion\n",
    "\n",
    "From [http://jeffe.cs.illinois.edu/teaching/algorithms/book/01-recursion.pdf].\n",
    "\n",
    "Start with peasant multiplication:"
   ]
  },
  {
   "cell_type": "code",
   "execution_count": 18,
   "metadata": {},
   "outputs": [],
   "source": [
    "def multiplyRec(x,y):\n",
    "    if x==0:\n",
    "        return 0\n",
    "    else:\n",
    "        xt = x//2\n",
    "        yt = y + y\n",
    "        prod = multiplyRec(xt,yt)  # RECURSIVE\n",
    "        if x&1:\n",
    "            prod += y\n",
    "        return prod"
   ]
  },
  {
   "cell_type": "code",
   "execution_count": 39,
   "metadata": {},
   "outputs": [
    {
     "name": "stdout",
     "output_type": "stream",
     "text": [
      "15241578780673678546105778296296299296296299296296299296296299296296299296296299281054720515622620750190521\n"
     ]
    }
   ],
   "source": [
    "print(multiplyRec(123456789123456789123456789,123456789123456789123456789123456789123456789123456789123456789123456789123456789))"
   ]
  },
  {
   "cell_type": "code",
   "execution_count": 40,
   "metadata": {},
   "outputs": [
    {
     "data": {
      "text/plain": [
       "15241578780673678546105778296296299296296299296296299296296299296296299296296299281054720515622620750190521"
      ]
     },
     "execution_count": 40,
     "metadata": {},
     "output_type": "execute_result"
    }
   ],
   "source": [
    "123456789123456789123456789*123456789123456789123456789123456789123456789123456789123456789123456789123456789"
   ]
  },
  {
   "cell_type": "markdown",
   "metadata": {},
   "source": [
    "## Mergesort\n",
    "\n",
    "Runtime: $O(n\\log{n})$"
   ]
  },
  {
   "cell_type": "code",
   "execution_count": 77,
   "metadata": {},
   "outputs": [],
   "source": [
    "def merge(a, b):\n",
    "    result = []\n",
    "    while (len(a) and len(b)):\n",
    "        if a[0]>b[0]:\n",
    "            result.append(b.pop(0))\n",
    "        else:\n",
    "            result.append(a.pop(0))\n",
    "    if (len(a) == 0):\n",
    "        result.extend(b)\n",
    "    else:\n",
    "        result.extend(a)\n",
    "    return result\n",
    "\n",
    "def mergeSort(input):\n",
    "    # base case, 1 elemnt is always sorted\n",
    "    if (len(input) == 1):\n",
    "        return input\n",
    "    half = len(input) // 2\n",
    "    left = mergeSort(input[:half])\n",
    "    right = mergeSort(input[half:])\n",
    "    #merge\n",
    "    return merge(left, right)\n",
    "    "
   ]
  },
  {
   "cell_type": "code",
   "execution_count": 78,
   "metadata": {},
   "outputs": [],
   "source": [
    "test=[1,9,5,6,11,13,27,-2]"
   ]
  },
  {
   "cell_type": "code",
   "execution_count": 79,
   "metadata": {},
   "outputs": [
    {
     "name": "stdout",
     "output_type": "stream",
     "text": [
      "[-2, 1, 5, 6, 9, 11, 13, 27]\n"
     ]
    }
   ],
   "source": [
    "print(mergeSort(test))"
   ]
  },
  {
   "cell_type": "markdown",
   "metadata": {},
   "source": [
    "## Exponentiation"
   ]
  },
  {
   "cell_type": "code",
   "execution_count": 90,
   "metadata": {},
   "outputs": [],
   "source": [
    "def recExp(a,n):\n",
    "    if n == 1:\n",
    "        return a\n",
    "    x = recExp(a,n//2)\n",
    "    if n&1:\n",
    "        return x*x*a\n",
    "    else:\n",
    "        return x*x"
   ]
  },
  {
   "cell_type": "code",
   "execution_count": 95,
   "metadata": {},
   "outputs": [
    {
     "name": "stdout",
     "output_type": "stream",
     "text": [
      "10715086071862673209484250490600018105614048117055336074437503883703510511249361224931983788156958581275946729175531468251871452856923140435984577574698574803934567774824230985421074605062371141877954182153046474983581941267398767559165543946077062914571196477686542167660429831652624386837205668069376\n"
     ]
    }
   ],
   "source": [
    "print(recExp(2,1000))"
   ]
  },
  {
   "cell_type": "code",
   "execution_count": 96,
   "metadata": {},
   "outputs": [
    {
     "data": {
      "text/plain": [
       "10715086071862673209484250490600018105614048117055336074437503883703510511249361224931983788156958581275946729175531468251871452856923140435984577574698574803934567774824230985421074605062371141877954182153046474983581941267398767559165543946077062914571196477686542167660429831652624386837205668069376"
      ]
     },
     "execution_count": 96,
     "metadata": {},
     "output_type": "execute_result"
    }
   ],
   "source": [
    "2**1000"
   ]
  },
  {
   "cell_type": "markdown",
   "metadata": {},
   "source": [
    "## Exercises\n",
    "\n",
    "### 25. Greatest Common Divisor\n",
    "\n",
    "First Euclids Algorithm (300BC)"
   ]
  },
  {
   "cell_type": "code",
   "execution_count": 97,
   "metadata": {},
   "outputs": [],
   "source": [
    "def euclidGCD(x,y):\n",
    "    if x==y:\n",
    "        return x\n",
    "    elif x>y:\n",
    "        return euclidGCD(x-y,y)\n",
    "    else:\n",
    "        return euclidGCD(x,y-x)"
   ]
  },
  {
   "cell_type": "code",
   "execution_count": 115,
   "metadata": {},
   "outputs": [
    {
     "name": "stdout",
     "output_type": "stream",
     "text": [
      "22\n"
     ]
    }
   ],
   "source": [
    "print(euclidGCD(201328423439132,123943132313242))"
   ]
  },
  {
   "cell_type": "code",
   "execution_count": 106,
   "metadata": {},
   "outputs": [],
   "source": [
    "def fastEuclid(x,y):\n",
    "    if x==y:\n",
    "        return x\n",
    "    elif x>y:\n",
    "        h = x % y\n",
    "        if h==0:\n",
    "            return y\n",
    "        else:\n",
    "            return fastEuclid(x % y, y)\n",
    "    else:\n",
    "        h = y%x\n",
    "        if h==0:\n",
    "            return x\n",
    "        else:\n",
    "            return fastEuclid(x, y % x)"
   ]
  },
  {
   "cell_type": "code",
   "execution_count": 116,
   "metadata": {},
   "outputs": [
    {
     "name": "stdout",
     "output_type": "stream",
     "text": [
      "22\n"
     ]
    }
   ],
   "source": [
    "print(fastEuclid(201328423439132,123943132313242))"
   ]
  },
  {
   "cell_type": "markdown",
   "metadata": {},
   "source": [
    "### 27. Visitor at political convention"
   ]
  },
  {
   "cell_type": "code",
   "execution_count": 117,
   "metadata": {},
   "outputs": [],
   "source": [
    "input = [1,0,1,0,1,0,1,1,1,1,0,0,1,1,1,0,0,0,0,1]"
   ]
  },
  {
   "cell_type": "code",
   "execution_count": 118,
   "metadata": {},
   "outputs": [
    {
     "data": {
      "text/plain": [
       "20"
      ]
     },
     "execution_count": 118,
     "metadata": {},
     "output_type": "execute_result"
    }
   ],
   "source": [
    "def identifyMajority(input):\n",
    "    result = [0]*len(input)\n",
    "    "
   ]
  },
  {
   "cell_type": "code",
   "execution_count": 122,
   "metadata": {},
   "outputs": [],
   "source": [
    "a=[1,2,3,4,5]"
   ]
  },
  {
   "cell_type": "markdown",
   "metadata": {},
   "source": [
    "  ### 29. Blits\n",
    "  #### a)\n",
    "  obvious\n",
    "  #### b)\n",
    "  Number of blits if n is power of 2:\n",
    "  $\\frac{5}{3}(n^2-1)$"
   ]
  },
  {
   "cell_type": "markdown",
   "metadata": {},
   "source": [
    "### 32. Find local minimum in array\n",
    "\n",
    "Given is array $A[1..n]$, with $A[1]\\geq A[2]$ and $A[n-1]\\leq A[n]$, find a local minimum. Naive searching is $O(n)$. Give an algorithm with runtime $O(\\log n)$.\n"
   ]
  },
  {
   "cell_type": "code",
   "execution_count": 151,
   "metadata": {},
   "outputs": [],
   "source": [
    "def localMin(input):\n",
    "    if len(input) == 2:\n",
    "        if input[0]<=input[1]:\n",
    "            return input[0]\n",
    "        else:\n",
    "            return input[1]\n",
    "    midpoint = len(input) // 2\n",
    "    midValue = input[midpoint]\n",
    "    #print(input,midValue)\n",
    "    if input[midpoint-1]>=midValue and midValue<=input[midpoint+1]:\n",
    "        return midValue\n",
    "    elif input[midpoint-1]<=midValue:\n",
    "        return localMin(input[:midpoint])\n",
    "    else:\n",
    "        return localMin(input[midpoint+1:])"
   ]
  },
  {
   "cell_type": "code",
   "execution_count": 156,
   "metadata": {},
   "outputs": [],
   "source": [
    "a=[9,7,7,2,1,3,7,5,4,7,3,3,4,8,6,9]\n",
    "b=[9,9,7,6,5,4,3,2,1,9]"
   ]
  },
  {
   "cell_type": "code",
   "execution_count": 157,
   "metadata": {},
   "outputs": [
    {
     "name": "stdout",
     "output_type": "stream",
     "text": [
      "1\n"
     ]
    }
   ],
   "source": [
    "print(localMin(b))"
   ]
  },
  {
   "cell_type": "code",
   "execution_count": null,
   "metadata": {},
   "outputs": [],
   "source": []
  }
 ],
 "metadata": {
  "kernelspec": {
   "display_name": "Python 3",
   "language": "python",
   "name": "python3"
  },
  "language_info": {
   "codemirror_mode": {
    "name": "ipython",
    "version": 3
   },
   "file_extension": ".py",
   "mimetype": "text/x-python",
   "name": "python",
   "nbconvert_exporter": "python",
   "pygments_lexer": "ipython3",
   "version": "3.6.6"
  }
 },
 "nbformat": 4,
 "nbformat_minor": 2
}
